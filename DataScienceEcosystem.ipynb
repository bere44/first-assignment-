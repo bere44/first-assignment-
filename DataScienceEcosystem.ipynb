{
  "cells": [
    {
      "cell_type": "markdown",
      "metadata": {
        "id": "9Mtm2ijcZ_WM"
      },
      "source": [
        "<center>\n",
        "    <img src=\"https://cf-courses-data.s3.us.cloud-object-storage.appdomain.cloud/IBMDeveloperSkillsNetwork-DS0105EN-SkillsNetwork/labs/Module2/images/SN_web_lightmode.png\" width=\"300\" alt=\"cognitiveclass.ai logo\">\n",
        "</center>\n"
      ]
    },
    {
      "cell_type": "markdown",
      "source": [
        "# Data Science Tools and Ecosystem"
      ],
      "metadata": {
        "id": "HCx5Gj4_aV1T"
      }
    },
    {
      "cell_type": "markdown",
      "source": [
        "In this notebook, Data Science Tools and Ecosystem are summarized."
      ],
      "metadata": {
        "id": "sCKeeXQ8bTEf"
      }
    },
    {
      "cell_type": "markdown",
      "source": [
        "**Objectives:**\n",
        "- List popular languages for Data Science\n",
        "- List libraries used by Data Scientists\n",
        "- List open source data science tools"
      ],
      "metadata": {
        "id": "9wIrRK9tsY6a"
      }
    },
    {
      "cell_type": "markdown",
      "source": [
        "Some of the popular languages that Data Scientists use are:\n",
        "\n",
        "\n",
        "1.   Python\n",
        "2.   R\n",
        "3.   SQL\n",
        "\n"
      ],
      "metadata": {
        "id": "_qWj6MbKbzlu"
      }
    },
    {
      "cell_type": "markdown",
      "source": [
        "Some of the commonly used libraries used by Data Scientists include:\n",
        "\n",
        "\n",
        "1.   PAndas\n",
        "2.   Numpy\n",
        "3.  scitlearn\n",
        "\n"
      ],
      "metadata": {
        "id": "JkO0M2WfcYdG"
      }
    },
    {
      "cell_type": "markdown",
      "source": [
        "|Data Science Tools|\n",
        "--------------------\n",
        "|pedictionIO|\n",
        "|Seldom|\n",
        "|Mleap|"
      ],
      "metadata": {
        "id": "fbL6elS5mxwS"
      }
    },
    {
      "cell_type": "markdown",
      "source": [
        "### Below are a few examples of evaluating arithmetic expressions in Python"
      ],
      "metadata": {
        "id": "x67Dx1TAqW4d"
      }
    },
    {
      "cell_type": "code",
      "source": [
        "#This a simple arithmetic expression to mutiply then add integers\n",
        "(3*4)+5"
      ],
      "metadata": {
        "colab": {
          "base_uri": "https://localhost:8080/"
        },
        "id": "jTYOkWAQq07p",
        "outputId": "ca821fdf-1a68-4971-b8b6-683c700c2df2"
      },
      "execution_count": 1,
      "outputs": [
        {
          "output_type": "execute_result",
          "data": {
            "text/plain": [
              "17"
            ]
          },
          "metadata": {},
          "execution_count": 1
        }
      ]
    },
    {
      "cell_type": "code",
      "source": [
        "#This will convert 200 minutes to hours by diving by 60\n",
        "min=200\n",
        "hr=min/60\n",
        "hr"
      ],
      "metadata": {
        "colab": {
          "base_uri": "https://localhost:8080/"
        },
        "id": "nd6P63Tyq-Ow",
        "outputId": "1b2ec318-cd39-4854-d068-221ef24c9c5c"
      },
      "execution_count": 2,
      "outputs": [
        {
          "output_type": "execute_result",
          "data": {
            "text/plain": [
              "3.3333333333333335"
            ]
          },
          "metadata": {},
          "execution_count": 2
        }
      ]
    },
    {
      "cell_type": "markdown",
      "source": [
        "## Author\n",
        "Berenisse de la Cruz"
      ],
      "metadata": {
        "id": "z3J9t7uFtf5q"
      }
    }
  ],
  "metadata": {
    "kernelspec": {
      "display_name": "Python 3",
      "name": "python3"
    },
    "language_info": {
      "name": "python"
    },
    "colab": {
      "provenance": []
    }
  },
  "nbformat": 4,
  "nbformat_minor": 0
}